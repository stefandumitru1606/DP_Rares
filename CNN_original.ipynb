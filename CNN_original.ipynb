{
 "cells": [
  {
   "cell_type": "code",
   "execution_count": 11,
   "id": "8952ff8e-9688-48b1-bcb2-c849abf400f8",
   "metadata": {},
   "outputs": [],
   "source": [
    "import tensorflow as tf\n",
    "from keras_preprocessing.image import ImageDataGenerator\n",
    "from keras.callbacks import ModelCheckpoint, EarlyStopping, ReduceLROnPlateau\n",
    "from keras.optimizers import Adam\n",
    "from keras.models import Sequential, Model, load_model\n",
    "from keras.layers import Conv2D, Flatten, MaxPooling2D, Input, BatchNormalization, Dropout, Dense"
   ]
  },
  {
   "cell_type": "code",
   "execution_count": 12,
   "id": "95425d6a-c3bf-4116-a230-a5b13affbdfd",
   "metadata": {},
   "outputs": [],
   "source": [
    "gpus = tf.config.experimental.list_physical_devices('GPU')\n",
    "for gpu in gpus: \n",
    " tf.config.experimental.set_memory_growth(gpu, True)"
   ]
  },
  {
   "cell_type": "code",
   "execution_count": 13,
   "id": "72ce0d2d-a9b4-4754-aeb4-17b7f80cd29a",
   "metadata": {},
   "outputs": [
    {
     "data": {
      "text/plain": [
       "[PhysicalDevice(name='/physical_device:GPU:0', device_type='GPU')]"
      ]
     },
     "execution_count": 13,
     "metadata": {},
     "output_type": "execute_result"
    }
   ],
   "source": [
    "gpus"
   ]
  },
  {
   "cell_type": "code",
   "execution_count": 23,
   "id": "254bfee1-3422-4acb-a11f-0555f2238ace",
   "metadata": {},
   "outputs": [
    {
     "name": "stdout",
     "output_type": "stream",
     "text": [
      "Found 28709 images belonging to 7 classes.\n",
      "Found 3589 images belonging to 7 classes.\n",
      "Found 3589 images belonging to 7 classes.\n"
     ]
    }
   ],
   "source": [
    "train_path = 'train'\n",
    "validation_path = 'val'\n",
    "test_path = 'test'\n",
    "\n",
    "train_datagen = ImageDataGenerator(\n",
    "    rescale = 1 / 255.0,\n",
    "    rotation_range = 10,\n",
    "    zoom_range = 0.1,\n",
    "    horizontal_flip = True\n",
    ")\n",
    "\n",
    "test_datagen = ImageDataGenerator(\n",
    "    rescale = 1 / 255.0\n",
    ")\n",
    "\n",
    "train_gen = train_datagen.flow_from_directory(\n",
    "    directory = train_path,\n",
    "    target_size = (48,48),\n",
    "    color_mode = 'grayscale',\n",
    "    batch_size = 64,\n",
    "    class_mode = 'categorical',\n",
    "    shuffle = True,\n",
    "    seed = 42\n",
    ")\n",
    "\n",
    "validation_gen = test_datagen.flow_from_directory(\n",
    "    directory = validation_path,\n",
    "    target_size = (48,48),\n",
    "    color_mode = 'grayscale',\n",
    "    batch_size = 64,\n",
    "    class_mode = 'categorical',\n",
    "    shuffle = True,\n",
    "    seed = 42\n",
    ")\n",
    "\n",
    "test_gen = test_datagen.flow_from_directory(\n",
    "    directory = test_path,\n",
    "    target_size = (48,48),\n",
    "    color_mode = 'grayscale',\n",
    "    batch_size = 64,\n",
    "    class_mode = 'categorical',\n",
    "    shuffle = True,\n",
    "    seed = 42\n",
    ")"
   ]
  },
  {
   "cell_type": "code",
   "execution_count": 25,
   "id": "f5f12bd2-28b7-41d5-9ac2-02df0d582ffc",
   "metadata": {},
   "outputs": [
    {
     "name": "stdout",
     "output_type": "stream",
     "text": [
      "Model: \"model_3\"\n",
      "_________________________________________________________________\n",
      " Layer (type)                Output Shape              Param #   \n",
      "=================================================================\n",
      " input_4 (InputLayer)        [(None, 48, 48, 1)]       0         \n",
      "                                                                 \n",
      " conv2d_15 (Conv2D)          (None, 48, 48, 256)       2560      \n",
      "                                                                 \n",
      " conv2d_16 (Conv2D)          (None, 48, 48, 512)       1180160   \n",
      "                                                                 \n",
      " batch_normalization_15 (Bat  (None, 48, 48, 512)      2048      \n",
      " chNormalization)                                                \n",
      "                                                                 \n",
      " max_pooling2d_12 (MaxPoolin  (None, 24, 24, 512)      0         \n",
      " g2D)                                                            \n",
      "                                                                 \n",
      " dropout_15 (Dropout)        (None, 24, 24, 512)       0         \n",
      "                                                                 \n",
      " conv2d_17 (Conv2D)          (None, 24, 24, 384)       1769856   \n",
      "                                                                 \n",
      " batch_normalization_16 (Bat  (None, 24, 24, 384)      1536      \n",
      " chNormalization)                                                \n",
      "                                                                 \n",
      " max_pooling2d_13 (MaxPoolin  (None, 12, 12, 384)      0         \n",
      " g2D)                                                            \n",
      "                                                                 \n",
      " dropout_16 (Dropout)        (None, 12, 12, 384)       0         \n",
      "                                                                 \n",
      " conv2d_18 (Conv2D)          (None, 12, 12, 192)       663744    \n",
      "                                                                 \n",
      " batch_normalization_17 (Bat  (None, 12, 12, 192)      768       \n",
      " chNormalization)                                                \n",
      "                                                                 \n",
      " max_pooling2d_14 (MaxPoolin  (None, 6, 6, 192)        0         \n",
      " g2D)                                                            \n",
      "                                                                 \n",
      " dropout_17 (Dropout)        (None, 6, 6, 192)         0         \n",
      "                                                                 \n",
      " conv2d_19 (Conv2D)          (None, 6, 6, 384)         663936    \n",
      "                                                                 \n",
      " batch_normalization_18 (Bat  (None, 6, 6, 384)        1536      \n",
      " chNormalization)                                                \n",
      "                                                                 \n",
      " max_pooling2d_15 (MaxPoolin  (None, 3, 3, 384)        0         \n",
      " g2D)                                                            \n",
      "                                                                 \n",
      " dropout_18 (Dropout)        (None, 3, 3, 384)         0         \n",
      "                                                                 \n",
      " flatten_3 (Flatten)         (None, 3456)              0         \n",
      "                                                                 \n",
      " dense_6 (Dense)             (None, 256)               884992    \n",
      "                                                                 \n",
      " batch_normalization_19 (Bat  (None, 256)              1024      \n",
      " chNormalization)                                                \n",
      "                                                                 \n",
      " dropout_19 (Dropout)        (None, 256)               0         \n",
      "                                                                 \n",
      " dense_7 (Dense)             (None, 7)                 1799      \n",
      "                                                                 \n",
      "=================================================================\n",
      "Total params: 5,173,959\n",
      "Trainable params: 5,170,503\n",
      "Non-trainable params: 3,456\n",
      "_________________________________________________________________\n"
     ]
    }
   ],
   "source": [
    "# model definition\n",
    "\n",
    "input = Input(shape = (48,48,1))\n",
    "x = Conv2D(filters=256,kernel_size=3,activation='relu',padding='same')(input)\n",
    "\n",
    "x = Conv2D(filters=512,kernel_size=3,activation='relu',padding='same')(x)\n",
    "x = BatchNormalization()(x)\n",
    "x = MaxPooling2D(pool_size=(2,2))(x)\n",
    "x = Dropout(0.4)(x)\n",
    "\n",
    "x = Conv2D(filters=384,kernel_size=3,activation='relu',padding='same')(x)\n",
    "x = BatchNormalization()(x)\n",
    "x = MaxPooling2D(pool_size=(2,2))(x)\n",
    "x = Dropout(0.4)(x)\n",
    "\n",
    "x = Conv2D(filters=192,kernel_size=3,activation='relu',padding='same')(x)\n",
    "x = BatchNormalization()(x)\n",
    "x = MaxPooling2D(pool_size=(2,2))(x)\n",
    "x = Dropout(0.4)(x)\n",
    "\n",
    "x = Conv2D(filters=384,kernel_size=3,activation='relu',padding='same')(x)\n",
    "x = BatchNormalization()(x)\n",
    "x = MaxPooling2D(pool_size=(2,2))(x)\n",
    "x = Dropout(0.4)(x)\n",
    "\n",
    "x = Flatten()(x)\n",
    "\n",
    "x = Dense(256,activation='relu')(x)\n",
    "x = BatchNormalization()(x)\n",
    "\n",
    "x = Dropout(0.3)(x)\n",
    "x = Dense(7,activation='softmax')(x)\n",
    "\n",
    "model = Model(input, x)\n",
    "model.summary()"
   ]
  },
  {
   "cell_type": "code",
   "execution_count": 26,
   "id": "832f39e1-726e-4b59-b27e-88eb2fdab14b",
   "metadata": {},
   "outputs": [
    {
     "name": "stdout",
     "output_type": "stream",
     "text": [
      "Epoch 1/150\n",
      "449/449 [==============================] - 464s 1s/step - loss: 2.0003 - acc: 0.2513 - val_loss: 1.8293 - val_acc: 0.2934\n",
      "Epoch 2/150\n",
      "449/449 [==============================] - 110s 246ms/step - loss: 1.6631 - acc: 0.3558 - val_loss: 1.4910 - val_acc: 0.4218\n",
      "Epoch 3/150\n",
      "449/449 [==============================] - 110s 246ms/step - loss: 1.4533 - acc: 0.4397 - val_loss: 1.6014 - val_acc: 0.4255\n",
      "Epoch 4/150\n",
      "449/449 [==============================] - 111s 246ms/step - loss: 1.3327 - acc: 0.4905 - val_loss: 1.2612 - val_acc: 0.5222\n",
      "Epoch 5/150\n",
      "449/449 [==============================] - 111s 247ms/step - loss: 1.2634 - acc: 0.5192 - val_loss: 1.2171 - val_acc: 0.5380\n",
      "Epoch 6/150\n",
      "449/449 [==============================] - 111s 246ms/step - loss: 1.2186 - acc: 0.5340 - val_loss: 1.1893 - val_acc: 0.5634\n",
      "Epoch 7/150\n",
      "449/449 [==============================] - 111s 247ms/step - loss: 1.1965 - acc: 0.5438 - val_loss: 1.1835 - val_acc: 0.5561\n",
      "Epoch 8/150\n",
      "449/449 [==============================] - 111s 248ms/step - loss: 1.1694 - acc: 0.5581 - val_loss: 1.1326 - val_acc: 0.5670\n",
      "Epoch 9/150\n",
      "449/449 [==============================] - 111s 247ms/step - loss: 1.1383 - acc: 0.5684 - val_loss: 1.1019 - val_acc: 0.5860\n",
      "Epoch 10/150\n",
      "449/449 [==============================] - 111s 247ms/step - loss: 1.1193 - acc: 0.5747 - val_loss: 1.0957 - val_acc: 0.5809\n",
      "Epoch 11/150\n",
      "449/449 [==============================] - 111s 246ms/step - loss: 1.1052 - acc: 0.5821 - val_loss: 1.0741 - val_acc: 0.5851\n",
      "Epoch 12/150\n",
      "449/449 [==============================] - 111s 248ms/step - loss: 1.0888 - acc: 0.5880 - val_loss: 1.0413 - val_acc: 0.6069\n",
      "Epoch 13/150\n",
      "449/449 [==============================] - 111s 247ms/step - loss: 1.0686 - acc: 0.5933 - val_loss: 1.0772 - val_acc: 0.6010\n",
      "Epoch 14/150\n",
      "449/449 [==============================] - 111s 247ms/step - loss: 1.0566 - acc: 0.6003 - val_loss: 1.0547 - val_acc: 0.6135\n",
      "Epoch 15/150\n",
      "449/449 [==============================] - 111s 247ms/step - loss: 1.0461 - acc: 0.6047 - val_loss: 1.0352 - val_acc: 0.6172\n",
      "Epoch 16/150\n",
      "449/449 [==============================] - 111s 247ms/step - loss: 1.0284 - acc: 0.6138 - val_loss: 1.0555 - val_acc: 0.6002\n",
      "Epoch 17/150\n",
      "449/449 [==============================] - 111s 247ms/step - loss: 1.0188 - acc: 0.6185 - val_loss: 0.9944 - val_acc: 0.6291\n",
      "Epoch 18/150\n",
      "449/449 [==============================] - 111s 247ms/step - loss: 1.0123 - acc: 0.6196 - val_loss: 1.0193 - val_acc: 0.6247\n",
      "Epoch 19/150\n",
      "449/449 [==============================] - 111s 246ms/step - loss: 1.0020 - acc: 0.6251 - val_loss: 1.0587 - val_acc: 0.6091\n",
      "Epoch 20/150\n",
      "449/449 [==============================] - 111s 247ms/step - loss: 0.9952 - acc: 0.6253 - val_loss: 0.9846 - val_acc: 0.6356\n",
      "Epoch 21/150\n",
      "449/449 [==============================] - 111s 247ms/step - loss: 0.9861 - acc: 0.6274 - val_loss: 1.0081 - val_acc: 0.6291\n",
      "Epoch 22/150\n",
      "449/449 [==============================] - 111s 247ms/step - loss: 0.9748 - acc: 0.6326 - val_loss: 0.9925 - val_acc: 0.6283\n",
      "Epoch 23/150\n",
      "449/449 [==============================] - 111s 247ms/step - loss: 0.9696 - acc: 0.6326 - val_loss: 0.9993 - val_acc: 0.6325\n",
      "Epoch 24/150\n",
      "449/449 [==============================] - 111s 247ms/step - loss: 0.9646 - acc: 0.6361 - val_loss: 1.1964 - val_acc: 0.6172\n",
      "Epoch 25/150\n",
      "449/449 [==============================] - 111s 247ms/step - loss: 0.9618 - acc: 0.6409 - val_loss: 1.0895 - val_acc: 0.6353\n",
      "Epoch 26/150\n",
      "449/449 [==============================] - 110s 245ms/step - loss: 0.9429 - acc: 0.6448 - val_loss: 1.0539 - val_acc: 0.6177\n",
      "Epoch 27/150\n",
      "449/449 [==============================] - 111s 248ms/step - loss: 0.9453 - acc: 0.6428 - val_loss: 0.9692 - val_acc: 0.6442\n",
      "Epoch 28/150\n",
      "449/449 [==============================] - 111s 247ms/step - loss: 0.9367 - acc: 0.6494 - val_loss: 0.9677 - val_acc: 0.6489\n",
      "Epoch 29/150\n",
      "449/449 [==============================] - 111s 246ms/step - loss: 0.9269 - acc: 0.6504 - val_loss: 0.9579 - val_acc: 0.6551\n",
      "Epoch 30/150\n",
      "449/449 [==============================] - 111s 247ms/step - loss: 0.9201 - acc: 0.6558 - val_loss: 0.9584 - val_acc: 0.6531\n",
      "Epoch 31/150\n",
      "449/449 [==============================] - 111s 247ms/step - loss: 0.9168 - acc: 0.6583 - val_loss: 0.9834 - val_acc: 0.6395\n",
      "Epoch 32/150\n",
      "449/449 [==============================] - 111s 247ms/step - loss: 0.9069 - acc: 0.6581 - val_loss: 1.0083 - val_acc: 0.6350\n",
      "Epoch 33/150\n",
      "449/449 [==============================] - 111s 247ms/step - loss: 0.8994 - acc: 0.6621 - val_loss: 0.9648 - val_acc: 0.6525\n",
      "Epoch 34/150\n",
      "449/449 [==============================] - 111s 246ms/step - loss: 0.9008 - acc: 0.6648 - val_loss: 0.9923 - val_acc: 0.6425\n",
      "Epoch 35/150\n",
      "449/449 [==============================] - 111s 247ms/step - loss: 0.8858 - acc: 0.6699 - val_loss: 0.9471 - val_acc: 0.6617\n",
      "Epoch 36/150\n",
      "449/449 [==============================] - 111s 247ms/step - loss: 0.8873 - acc: 0.6683 - val_loss: 0.9606 - val_acc: 0.6539\n",
      "Epoch 37/150\n",
      "449/449 [==============================] - 111s 247ms/step - loss: 0.8806 - acc: 0.6697 - val_loss: 0.9548 - val_acc: 0.6514\n",
      "Epoch 38/150\n",
      "449/449 [==============================] - 111s 248ms/step - loss: 0.8714 - acc: 0.6718 - val_loss: 0.9914 - val_acc: 0.6400\n",
      "Epoch 39/150\n",
      "449/449 [==============================] - 111s 247ms/step - loss: 0.8647 - acc: 0.6788 - val_loss: 0.9853 - val_acc: 0.6456\n",
      "Epoch 40/150\n",
      "449/449 [==============================] - 111s 247ms/step - loss: 0.8576 - acc: 0.6758 - val_loss: 0.9604 - val_acc: 0.6587\n",
      "Epoch 41/150\n",
      "449/449 [==============================] - 111s 247ms/step - loss: 0.8624 - acc: 0.6743 - val_loss: 1.0066 - val_acc: 0.6464\n",
      "Epoch 42/150\n",
      "449/449 [==============================] - 111s 247ms/step - loss: 0.8566 - acc: 0.6792 - val_loss: 1.0222 - val_acc: 0.6358\n",
      "Epoch 43/150\n",
      "449/449 [==============================] - 111s 247ms/step - loss: 0.8569 - acc: 0.6788 - val_loss: 0.9687 - val_acc: 0.6517\n",
      "Epoch 44/150\n",
      "449/449 [==============================] - 111s 247ms/step - loss: 0.8499 - acc: 0.6839 - val_loss: 0.9691 - val_acc: 0.6592\n",
      "Epoch 45/150\n",
      "449/449 [==============================] - 111s 247ms/step - loss: 0.8393 - acc: 0.6873 - val_loss: 0.9593 - val_acc: 0.6587\n",
      "Epoch 46/150\n",
      "449/449 [==============================] - 111s 246ms/step - loss: 0.8323 - acc: 0.6870 - val_loss: 0.9494 - val_acc: 0.6662\n",
      "Epoch 47/150\n",
      "449/449 [==============================] - 111s 247ms/step - loss: 0.8340 - acc: 0.6850 - val_loss: 0.9642 - val_acc: 0.6525\n",
      "Epoch 48/150\n",
      "449/449 [==============================] - 111s 247ms/step - loss: 0.8324 - acc: 0.6887 - val_loss: 0.9743 - val_acc: 0.6581\n",
      "Epoch 49/150\n",
      "449/449 [==============================] - 111s 247ms/step - loss: 0.8236 - acc: 0.6894 - val_loss: 0.9550 - val_acc: 0.6668\n",
      "Epoch 50/150\n",
      "449/449 [==============================] - 111s 247ms/step - loss: 0.8181 - acc: 0.6920 - val_loss: 0.9647 - val_acc: 0.6643\n",
      "Epoch 51/150\n",
      "449/449 [==============================] - 111s 247ms/step - loss: 0.8165 - acc: 0.6927 - val_loss: 0.9944 - val_acc: 0.6422\n",
      "Epoch 52/150\n",
      "449/449 [==============================] - 112s 249ms/step - loss: 0.8135 - acc: 0.6947 - val_loss: 0.9339 - val_acc: 0.6737\n",
      "Epoch 53/150\n",
      "449/449 [==============================] - 111s 247ms/step - loss: 0.8065 - acc: 0.6953 - val_loss: 0.9483 - val_acc: 0.6637\n",
      "Epoch 54/150\n",
      "449/449 [==============================] - 112s 248ms/step - loss: 0.7995 - acc: 0.6977 - val_loss: 0.9793 - val_acc: 0.6595\n",
      "Epoch 55/150\n",
      "449/449 [==============================] - 111s 247ms/step - loss: 0.7973 - acc: 0.6996 - val_loss: 0.9937 - val_acc: 0.6609\n",
      "Epoch 56/150\n",
      "449/449 [==============================] - 111s 246ms/step - loss: 0.7939 - acc: 0.7010 - val_loss: 0.9484 - val_acc: 0.6695\n",
      "Epoch 57/150\n",
      "449/449 [==============================] - 111s 247ms/step - loss: 0.7854 - acc: 0.7069 - val_loss: 0.9590 - val_acc: 0.6662\n",
      "Epoch 58/150\n",
      "449/449 [==============================] - 111s 247ms/step - loss: 0.7838 - acc: 0.7052 - val_loss: 0.9556 - val_acc: 0.6637\n",
      "Epoch 59/150\n",
      "449/449 [==============================] - 111s 247ms/step - loss: 0.7762 - acc: 0.7102 - val_loss: 0.9848 - val_acc: 0.6528\n",
      "Epoch 60/150\n",
      "449/449 [==============================] - 111s 247ms/step - loss: 0.7810 - acc: 0.7030 - val_loss: 0.9616 - val_acc: 0.6601\n",
      "Epoch 61/150\n",
      "449/449 [==============================] - 111s 248ms/step - loss: 0.7732 - acc: 0.7090 - val_loss: 0.9991 - val_acc: 0.6556\n",
      "Epoch 62/150\n",
      "449/449 [==============================] - 111s 246ms/step - loss: 0.7754 - acc: 0.7106 - val_loss: 0.9664 - val_acc: 0.6648\n",
      "Epoch 63/150\n",
      "449/449 [==============================] - 110s 246ms/step - loss: 0.7613 - acc: 0.7165 - val_loss: 0.9679 - val_acc: 0.6695\n",
      "Epoch 64/150\n",
      "449/449 [==============================] - 111s 247ms/step - loss: 0.7587 - acc: 0.7159 - val_loss: 0.9406 - val_acc: 0.6679\n",
      "Epoch 65/150\n",
      "449/449 [==============================] - 111s 247ms/step - loss: 0.7638 - acc: 0.7133 - val_loss: 0.9472 - val_acc: 0.6726\n",
      "Epoch 66/150\n",
      "449/449 [==============================] - 111s 247ms/step - loss: 0.7594 - acc: 0.7165 - val_loss: 0.9808 - val_acc: 0.6629\n",
      "Epoch 67/150\n",
      "449/449 [==============================] - 111s 248ms/step - loss: 0.7490 - acc: 0.7187 - val_loss: 0.9787 - val_acc: 0.6734\n",
      "Epoch 68/150\n",
      "449/449 [==============================] - 111s 247ms/step - loss: 0.7480 - acc: 0.7212 - val_loss: 0.9618 - val_acc: 0.6707\n",
      "Epoch 69/150\n",
      "449/449 [==============================] - 111s 247ms/step - loss: 0.7505 - acc: 0.7214 - val_loss: 0.9796 - val_acc: 0.6640\n",
      "Epoch 70/150\n",
      "449/449 [==============================] - 111s 247ms/step - loss: 0.7501 - acc: 0.7175 - val_loss: 0.9706 - val_acc: 0.6640\n",
      "Epoch 71/150\n",
      "449/449 [==============================] - 111s 247ms/step - loss: 0.7405 - acc: 0.7207 - val_loss: 0.9611 - val_acc: 0.6665\n",
      "Epoch 72/150\n",
      "449/449 [==============================] - 111s 247ms/step - loss: 0.7380 - acc: 0.7226 - val_loss: 0.9474 - val_acc: 0.6801\n",
      "Epoch 72: early stopping\n"
     ]
    }
   ],
   "source": [
    "reduce_lr = ReduceLROnPlateau(monitor='val_loss',factor=0.5, patience = 4, verbose = 1)\n",
    "early_stopping = EarlyStopping(monitor='val_loss', min_delta=0, patience = 20, verbose = 1)\n",
    "optimizer = tf.keras.optimizers.Adam(learning_rate = 0.001)\n",
    "\n",
    "model.compile(loss = tf.keras.losses.categorical_crossentropy, metrics = 'acc', optimizer = optimizer)\n",
    "history = model.fit(train_gen,validation_data = validation_gen, epochs = 150, callbacks = [early_stopping])"
   ]
  },
  {
   "cell_type": "code",
   "execution_count": 27,
   "id": "6b86fb96-4bad-4c7d-a4ab-10dcd1b78b7a",
   "metadata": {},
   "outputs": [
    {
     "name": "stdout",
     "output_type": "stream",
     "text": [
      "57/57 [==============================] - 42s 743ms/step - loss: 0.8969 - acc: 0.6879\n"
     ]
    },
    {
     "data": {
      "text/plain": [
       "[0.8969002962112427, 0.6879353523254395]"
      ]
     },
     "execution_count": 27,
     "metadata": {},
     "output_type": "execute_result"
    }
   ],
   "source": [
    "model.evaluate(test_gen, verbose=1)"
   ]
  },
  {
   "cell_type": "code",
   "execution_count": 29,
   "id": "16fdf760-bd6f-4657-b336-b83cb5879365",
   "metadata": {},
   "outputs": [
    {
     "name": "stdout",
     "output_type": "stream",
     "text": [
      "Requirement already satisfied: matplotlib in c:\\users\\stanek-03\\anaconda3\\envs\\tensorgpu\\lib\\site-packages (3.8.3)\n",
      "Requirement already satisfied: contourpy>=1.0.1 in c:\\users\\stanek-03\\anaconda3\\envs\\tensorgpu\\lib\\site-packages (from matplotlib) (1.2.0)\n",
      "Requirement already satisfied: cycler>=0.10 in c:\\users\\stanek-03\\anaconda3\\envs\\tensorgpu\\lib\\site-packages (from matplotlib) (0.12.1)\n",
      "Requirement already satisfied: fonttools>=4.22.0 in c:\\users\\stanek-03\\anaconda3\\envs\\tensorgpu\\lib\\site-packages (from matplotlib) (4.50.0)\n",
      "Requirement already satisfied: kiwisolver>=1.3.1 in c:\\users\\stanek-03\\anaconda3\\envs\\tensorgpu\\lib\\site-packages (from matplotlib) (1.4.5)\n",
      "Requirement already satisfied: numpy<2,>=1.21 in c:\\users\\stanek-03\\anaconda3\\envs\\tensorgpu\\lib\\site-packages (from matplotlib) (1.26.4)\n",
      "Requirement already satisfied: packaging>=20.0 in c:\\users\\stanek-03\\anaconda3\\envs\\tensorgpu\\lib\\site-packages (from matplotlib) (23.2)\n",
      "Requirement already satisfied: pillow>=8 in c:\\users\\stanek-03\\anaconda3\\envs\\tensorgpu\\lib\\site-packages (from matplotlib) (10.2.0)\n",
      "Requirement already satisfied: pyparsing>=2.3.1 in c:\\users\\stanek-03\\anaconda3\\envs\\tensorgpu\\lib\\site-packages (from matplotlib) (3.1.2)\n",
      "Requirement already satisfied: python-dateutil>=2.7 in c:\\users\\stanek-03\\anaconda3\\envs\\tensorgpu\\lib\\site-packages (from matplotlib) (2.8.2)\n",
      "Requirement already satisfied: six>=1.5 in c:\\users\\stanek-03\\anaconda3\\envs\\tensorgpu\\lib\\site-packages (from python-dateutil>=2.7->matplotlib) (1.16.0)\n"
     ]
    }
   ],
   "source": [
    "!pip install matplotlib"
   ]
  },
  {
   "cell_type": "code",
   "execution_count": 30,
   "id": "0701816a-9ec0-4227-8dd5-e6ca129b7586",
   "metadata": {},
   "outputs": [],
   "source": [
    "import matplotlib.pyplot as plt"
   ]
  },
  {
   "cell_type": "code",
   "execution_count": 31,
   "id": "a390c9c3-9a98-40ea-b8e5-901b04b7d690",
   "metadata": {},
   "outputs": [
    {
     "name": "stdout",
     "output_type": "stream",
     "text": [
      "dict_keys(['loss', 'acc', 'val_loss', 'val_acc'])\n"
     ]
    },
    {
     "data": {
      "image/png": "[encoded data removed]",
      "text/plain": [
       "<Figure size 640x480 with 1 Axes>"
      ]
     },
     "metadata": {},
     "output_type": "display_data"
    },
    {
     "data": {
      "image/png": "[encoded data removed]",
      "text/plain": [
       "<Figure size 640x480 with 1 Axes>"
      ]
     },
     "metadata": {},
     "output_type": "display_data"
    }
   ],
   "source": [
    "# list all data in history\n",
    "print(history.history.keys())\n",
    "\n",
    "plt.plot(history.history['acc'])\n",
    "plt.plot(history.history['val_acc'])\n",
    "plt.title('model accuracy')\n",
    "plt.ylabel('accuracy')\n",
    "plt.xlabel('epoch')\n",
    "plt.legend(['train', 'dev'], loc='upper left')\n",
    "plt.show()\n",
    "\n",
    "plt.plot(history.history['loss'])\n",
    "plt.plot(history.history['val_loss'])\n",
    "plt.title('model loss')\n",
    "plt.ylabel('loss')\n",
    "plt.xlabel('epoch')\n",
    "plt.legend(['train', 'dev'], loc='upper left')\n",
    "plt.show()"
   ]
  },
  {
   "cell_type": "code",
   "execution_count": 32,
   "id": "02616b1c-ed6e-49df-aa82-7c5d963bc9c3",
   "metadata": {},
   "outputs": [],
   "source": [
    "model.save('models/CNN_69%_72epsES.h5')"
   ]
  },
  {
   "cell_type": "code",
   "execution_count": null,
   "id": "923fec19-3799-4132-b3f9-2bad991121b3",
   "metadata": {},
   "outputs": [],
   "source": []
  }
 ],
 "metadata": {
  "kernelspec": {
   "display_name": "tensorgpu",
   "language": "python",
   "name": "tensorgpu"
  },
  "language_info": {
   "codemirror_mode": {
    "name": "ipython",
    "version": 3
   },
   "file_extension": ".py",
   "mimetype": "text/x-python",
   "name": "python",
   "nbconvert_exporter": "python",
   "pygments_lexer": "ipython3",
   "version": "3.10.13"
  }
 },
 "nbformat": 4,
 "nbformat_minor": 5
}
