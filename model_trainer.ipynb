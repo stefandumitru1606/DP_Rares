{
 "cells": [
  {
   "cell_type": "code",
   "execution_count": 10,
   "id": "83df5174-2551-4074-a0fa-f09c74916f97",
   "metadata": {},
   "outputs": [],
   "source": [
    "import tensorflow as tf\n",
    "from keras_preprocessing.image import ImageDataGenerator\n",
    "from keras.callbacks import ModelCheckpoint, EarlyStopping, ReduceLROnPlateau\n",
    "from keras.optimizers import Adam\n",
    "from keras.models import Sequential, Model, load_model\n",
    "from keras.layers import Conv2D, Flatten, MaxPooling2D, Input, BatchNormalization, Dropout, Dense"
   ]
  },
  {
   "cell_type": "code",
   "execution_count": 11,
   "id": "06466d7c-97d8-499a-ac94-2bb1b09fa803",
   "metadata": {},
   "outputs": [],
   "source": [
    "gpus = tf.config.experimental.list_physical_devices('GPU')\n",
    "for gpu in gpus:\n",
    "    tf.config.experimental.set_memory_growth(gpu, True)"
   ]
  },
  {
   "cell_type": "code",
   "execution_count": 12,
   "id": "9046ae14-8522-416b-9e46-a2c064bcc770",
   "metadata": {},
   "outputs": [
    {
     "data": {
      "text/plain": [
       "[PhysicalDevice(name='/physical_device:GPU:0', device_type='GPU')]"
      ]
     },
     "execution_count": 12,
     "metadata": {},
     "output_type": "execute_result"
    }
   ],
   "source": [
    "gpus"
   ]
  },
  {
   "cell_type": "code",
   "execution_count": 13,
   "id": "3bedc861-cec8-4aaa-bc4f-94bb9ca62ec9",
   "metadata": {},
   "outputs": [
    {
     "name": "stdout",
     "output_type": "stream",
     "text": [
      "Found 28709 images belonging to 7 classes.\n",
      "Found 7178 images belonging to 7 classes.\n"
     ]
    }
   ],
   "source": [
    "train_path = 'train'\n",
    "validation_path = 'test'\n",
    "\n",
    "batch_size = 64\n",
    "\n",
    "train_datagen = ImageDataGenerator(\n",
    "    rescale = 1 / 255.0,\n",
    "    rotation_range = 10,\n",
    "    zoom_range = 0.1,\n",
    "    horizontal_flip = True\n",
    ")\n",
    "\n",
    "test_datagen = ImageDataGenerator(\n",
    "    rescale = 1 / 255.0\n",
    ")\n",
    "\n",
    "train_generator = train_datagen.flow_from_directory(\n",
    "    directory = train_path,\n",
    "    target_size = (48,48),\n",
    "    color_mode = 'grayscale',\n",
    "    batch_size = batch_size,\n",
    "    class_mode = 'categorical',\n",
    "    shuffle = True,\n",
    "    seed = 42\n",
    ")\n",
    "\n",
    "valid_generator = test_datagen.flow_from_directory(\n",
    "    directory = validation_path,\n",
    "    target_size = (48,48),\n",
    "    color_mode = 'grayscale',\n",
    "    batch_size = batch_size,\n",
    "    class_mode = 'categorical',\n",
    "    shuffle = True,\n",
    "    seed = 42\n",
    ")"
   ]
  },
  {
   "cell_type": "code",
   "execution_count": 14,
   "id": "8692efd7-9c3f-4ef0-a2a1-700e244be59b",
   "metadata": {},
   "outputs": [
    {
     "name": "stdout",
     "output_type": "stream",
     "text": [
      "Model: \"model\"\n",
      "_________________________________________________________________\n",
      " Layer (type)                Output Shape              Param #   \n",
      "=================================================================\n",
      " input_1 (InputLayer)        [(None, 48, 48, 1)]       0         \n",
      "                                                                 \n",
      " conv2d (Conv2D)             (None, 48, 48, 256)       2560      \n",
      "                                                                 \n",
      " conv2d_1 (Conv2D)           (None, 48, 48, 512)       1180160   \n",
      "                                                                 \n",
      " batch_normalization (BatchN  (None, 48, 48, 512)      2048      \n",
      " ormalization)                                                   \n",
      "                                                                 \n",
      " max_pooling2d (MaxPooling2D  (None, 24, 24, 512)      0         \n",
      " )                                                               \n",
      "                                                                 \n",
      " dropout (Dropout)           (None, 24, 24, 512)       0         \n",
      "                                                                 \n",
      " conv2d_2 (Conv2D)           (None, 24, 24, 384)       1769856   \n",
      "                                                                 \n",
      " batch_normalization_1 (Batc  (None, 24, 24, 384)      1536      \n",
      " hNormalization)                                                 \n",
      "                                                                 \n",
      " max_pooling2d_1 (MaxPooling  (None, 12, 12, 384)      0         \n",
      " 2D)                                                             \n",
      "                                                                 \n",
      " dropout_1 (Dropout)         (None, 12, 12, 384)       0         \n",
      "                                                                 \n",
      " conv2d_3 (Conv2D)           (None, 12, 12, 192)       663744    \n",
      "                                                                 \n",
      " batch_normalization_2 (Batc  (None, 12, 12, 192)      768       \n",
      " hNormalization)                                                 \n",
      "                                                                 \n",
      " max_pooling2d_2 (MaxPooling  (None, 6, 6, 192)        0         \n",
      " 2D)                                                             \n",
      "                                                                 \n",
      " dropout_2 (Dropout)         (None, 6, 6, 192)         0         \n",
      "                                                                 \n",
      " conv2d_4 (Conv2D)           (None, 6, 6, 384)         663936    \n",
      "                                                                 \n",
      " batch_normalization_3 (Batc  (None, 6, 6, 384)        1536      \n",
      " hNormalization)                                                 \n",
      "                                                                 \n",
      " max_pooling2d_3 (MaxPooling  (None, 3, 3, 384)        0         \n",
      " 2D)                                                             \n",
      "                                                                 \n",
      " dropout_3 (Dropout)         (None, 3, 3, 384)         0         \n",
      "                                                                 \n",
      " flatten (Flatten)           (None, 3456)              0         \n",
      "                                                                 \n",
      " dense (Dense)               (None, 256)               884992    \n",
      "                                                                 \n",
      " batch_normalization_4 (Batc  (None, 256)              1024      \n",
      " hNormalization)                                                 \n",
      "                                                                 \n",
      " dropout_4 (Dropout)         (None, 256)               0         \n",
      "                                                                 \n",
      " dense_1 (Dense)             (None, 7)                 1799      \n",
      "                                                                 \n",
      "=================================================================\n",
      "Total params: 5,173,959\n",
      "Trainable params: 5,170,503\n",
      "Non-trainable params: 3,456\n",
      "_________________________________________________________________\n"
     ]
    }
   ],
   "source": [
    "# model definition\n",
    "\n",
    "input = Input(shape = (48,48,1))\n",
    "x = Conv2D(filters=256,kernel_size=3,activation='relu',padding='same')(input)\n",
    "\n",
    "x = Conv2D(filters=512,kernel_size=3,activation='relu',padding='same')(x)\n",
    "x = BatchNormalization()(x)\n",
    "x = MaxPooling2D(pool_size=(2,2))(x)\n",
    "x = Dropout(0.4)(x)\n",
    "\n",
    "x = Conv2D(filters=384,kernel_size=3,activation='relu',padding='same')(x)\n",
    "x = BatchNormalization()(x)\n",
    "x = MaxPooling2D(pool_size=(2,2))(x)\n",
    "x = Dropout(0.4)(x)\n",
    "\n",
    "x = Conv2D(filters=192,kernel_size=3,activation='relu',padding='same')(x)\n",
    "x = BatchNormalization()(x)\n",
    "x = MaxPooling2D(pool_size=(2,2))(x)\n",
    "x = Dropout(0.4)(x)\n",
    "\n",
    "x = Conv2D(filters=384,kernel_size=3,activation='relu',padding='same')(x)\n",
    "x = BatchNormalization()(x)\n",
    "x = MaxPooling2D(pool_size=(2,2))(x)\n",
    "x = Dropout(0.4)(x)\n",
    "\n",
    "x = Flatten()(x)\n",
    "\n",
    "x = Dense(256,activation='relu')(x)\n",
    "x = BatchNormalization()(x)\n",
    "\n",
    "x = Dropout(0.3)(x)\n",
    "x = Dense(7,activation='softmax')(x)\n",
    "\n",
    "model = Model(input, x)\n",
    "model.summary()"
   ]
  },
  {
   "cell_type": "code",
   "execution_count": 17,
   "id": "2c29ae78-8035-43a2-a194-f5ecfe7b2a6a",
   "metadata": {},
   "outputs": [
    {
     "name": "stdout",
     "output_type": "stream",
     "text": [
      "Epoch 1/100\n",
      "449/449 [==============================] - 219s 466ms/step - loss: 2.0030 - acc: 0.2479 - val_loss: 1.8917 - val_acc: 0.2665\n",
      "Epoch 2/100\n",
      "449/449 [==============================] - 206s 458ms/step - loss: 1.6531 - acc: 0.3561 - val_loss: 1.5113 - val_acc: 0.4171\n",
      "Epoch 3/100\n",
      "449/449 [==============================] - 206s 458ms/step - loss: 1.4456 - acc: 0.4423 - val_loss: 1.6602 - val_acc: 0.3553\n",
      "Epoch 4/100\n",
      "449/449 [==============================] - 205s 456ms/step - loss: 1.3214 - acc: 0.4942 - val_loss: 1.2361 - val_acc: 0.5217\n",
      "Epoch 5/100\n",
      "449/449 [==============================] - 205s 457ms/step - loss: 1.2571 - acc: 0.5234 - val_loss: 1.2066 - val_acc: 0.5344\n",
      "Epoch 6/100\n",
      "449/449 [==============================] - 205s 456ms/step - loss: 1.2146 - acc: 0.5413 - val_loss: 1.2441 - val_acc: 0.5269\n",
      "Epoch 7/100\n",
      "449/449 [==============================] - 206s 457ms/step - loss: 1.1827 - acc: 0.5507 - val_loss: 1.1082 - val_acc: 0.5755\n",
      "Epoch 8/100\n",
      "449/449 [==============================] - 205s 457ms/step - loss: 1.1516 - acc: 0.5657 - val_loss: 1.1307 - val_acc: 0.5699\n",
      "Epoch 9/100\n",
      "449/449 [==============================] - 205s 455ms/step - loss: 1.1316 - acc: 0.5683 - val_loss: 1.0735 - val_acc: 0.5939\n",
      "Epoch 10/100\n",
      "449/449 [==============================] - 205s 456ms/step - loss: 1.1156 - acc: 0.5785 - val_loss: 1.6328 - val_acc: 0.4384\n",
      "Epoch 11/100\n",
      "449/449 [==============================] - 205s 457ms/step - loss: 1.0935 - acc: 0.5836 - val_loss: 1.0431 - val_acc: 0.6123\n",
      "Epoch 12/100\n",
      "449/449 [==============================] - 205s 456ms/step - loss: 1.0837 - acc: 0.5880 - val_loss: 1.1000 - val_acc: 0.5841\n",
      "Epoch 13/100\n",
      "449/449 [==============================] - 205s 456ms/step - loss: 1.0687 - acc: 0.5957 - val_loss: 1.0449 - val_acc: 0.6053\n",
      "Epoch 14/100\n",
      "449/449 [==============================] - 205s 456ms/step - loss: 1.0564 - acc: 0.6019 - val_loss: 1.0213 - val_acc: 0.6134\n",
      "Epoch 15/100\n",
      "449/449 [==============================] - 205s 455ms/step - loss: 1.0406 - acc: 0.6067 - val_loss: 0.9980 - val_acc: 0.6279\n",
      "Epoch 16/100\n",
      "449/449 [==============================] - 204s 455ms/step - loss: 1.0287 - acc: 0.6138 - val_loss: 1.0068 - val_acc: 0.6265\n",
      "Epoch 17/100\n",
      "449/449 [==============================] - 205s 456ms/step - loss: 1.0188 - acc: 0.6183 - val_loss: 1.0467 - val_acc: 0.6076\n",
      "Epoch 18/100\n",
      "449/449 [==============================] - 205s 456ms/step - loss: 1.0104 - acc: 0.6185 - val_loss: 1.0135 - val_acc: 0.6154\n",
      "Epoch 19/100\n",
      "449/449 [==============================] - 204s 455ms/step - loss: 0.9960 - acc: 0.6212 - val_loss: 1.0178 - val_acc: 0.6291\n",
      "Epoch 20/100\n",
      "449/449 [==============================] - 204s 455ms/step - loss: 1.0007 - acc: 0.6202 - val_loss: 1.0710 - val_acc: 0.6222\n",
      "Epoch 21/100\n",
      "449/449 [==============================] - 204s 455ms/step - loss: 0.9851 - acc: 0.6283 - val_loss: 0.9876 - val_acc: 0.6403\n",
      "Epoch 22/100\n",
      "449/449 [==============================] - 204s 455ms/step - loss: 0.9749 - acc: 0.6346 - val_loss: 0.9688 - val_acc: 0.6453\n",
      "Epoch 23/100\n",
      "449/449 [==============================] - 204s 455ms/step - loss: 0.9658 - acc: 0.6370 - val_loss: 1.0228 - val_acc: 0.6280\n",
      "Epoch 24/100\n",
      "449/449 [==============================] - 205s 456ms/step - loss: 0.9625 - acc: 0.6389 - val_loss: 0.9588 - val_acc: 0.6456\n",
      "Epoch 25/100\n",
      "449/449 [==============================] - 204s 455ms/step - loss: 0.9449 - acc: 0.6419 - val_loss: 0.9978 - val_acc: 0.6368\n",
      "Epoch 26/100\n",
      "449/449 [==============================] - 205s 455ms/step - loss: 0.9394 - acc: 0.6450 - val_loss: 0.9721 - val_acc: 0.6453\n",
      "Epoch 27/100\n",
      "449/449 [==============================] - 205s 455ms/step - loss: 0.9293 - acc: 0.6501 - val_loss: 1.0149 - val_acc: 0.6350\n",
      "Epoch 28/100\n",
      "449/449 [==============================] - 205s 456ms/step - loss: 0.9283 - acc: 0.6529 - val_loss: 0.9449 - val_acc: 0.6525\n",
      "Epoch 29/100\n",
      "449/449 [==============================] - 205s 455ms/step - loss: 0.9241 - acc: 0.6535 - val_loss: 0.9621 - val_acc: 0.6514\n",
      "Epoch 30/100\n",
      "449/449 [==============================] - 205s 456ms/step - loss: 0.9158 - acc: 0.6549 - val_loss: 1.0006 - val_acc: 0.6400\n",
      "Epoch 31/100\n",
      "449/449 [==============================] - 204s 455ms/step - loss: 0.9047 - acc: 0.6594 - val_loss: 0.9727 - val_acc: 0.6527\n",
      "Epoch 32/100\n",
      "449/449 [==============================] - 205s 456ms/step - loss: 0.9020 - acc: 0.6599 - val_loss: 0.9636 - val_acc: 0.6488\n",
      "Epoch 33/100\n",
      "449/449 [==============================] - 205s 455ms/step - loss: 0.8978 - acc: 0.6623 - val_loss: 0.9397 - val_acc: 0.6562\n",
      "Epoch 34/100\n",
      "449/449 [==============================] - 204s 455ms/step - loss: 0.8980 - acc: 0.6615 - val_loss: 0.9315 - val_acc: 0.6577\n",
      "Epoch 35/100\n",
      "449/449 [==============================] - 205s 456ms/step - loss: 0.8909 - acc: 0.6668 - val_loss: 0.9343 - val_acc: 0.6616\n",
      "Epoch 36/100\n",
      "449/449 [==============================] - 204s 455ms/step - loss: 0.8828 - acc: 0.6697 - val_loss: 0.9291 - val_acc: 0.6584\n",
      "Epoch 37/100\n",
      "449/449 [==============================] - 205s 456ms/step - loss: 0.8813 - acc: 0.6687 - val_loss: 0.9751 - val_acc: 0.6473\n",
      "Epoch 38/100\n",
      "449/449 [==============================] - 204s 454ms/step - loss: 0.8633 - acc: 0.6742 - val_loss: 1.0074 - val_acc: 0.6349\n",
      "Epoch 39/100\n",
      "449/449 [==============================] - 205s 455ms/step - loss: 0.8630 - acc: 0.6734 - val_loss: 0.9316 - val_acc: 0.6652\n",
      "Epoch 40/100\n",
      "449/449 [==============================] - 204s 455ms/step - loss: 0.8604 - acc: 0.6735 - val_loss: 0.9659 - val_acc: 0.6507\n",
      "Epoch 41/100\n",
      "449/449 [==============================] - 205s 456ms/step - loss: 0.8505 - acc: 0.6816 - val_loss: 0.9742 - val_acc: 0.6535\n",
      "Epoch 42/100\n",
      "449/449 [==============================] - 204s 455ms/step - loss: 0.8498 - acc: 0.6789 - val_loss: 0.9306 - val_acc: 0.6649\n",
      "Epoch 43/100\n",
      "449/449 [==============================] - 204s 455ms/step - loss: 0.8456 - acc: 0.6828 - val_loss: 1.0131 - val_acc: 0.6520\n",
      "Epoch 44/100\n",
      "449/449 [==============================] - 205s 455ms/step - loss: 0.8392 - acc: 0.6822 - val_loss: 0.9847 - val_acc: 0.6513\n",
      "Epoch 45/100\n",
      "449/449 [==============================] - 205s 455ms/step - loss: 0.8367 - acc: 0.6837 - val_loss: 0.9143 - val_acc: 0.6659\n",
      "Epoch 46/100\n",
      "449/449 [==============================] - 205s 455ms/step - loss: 0.8283 - acc: 0.6875 - val_loss: 0.9207 - val_acc: 0.6722\n",
      "Epoch 47/100\n",
      "449/449 [==============================] - 205s 455ms/step - loss: 0.8267 - acc: 0.6904 - val_loss: 0.9541 - val_acc: 0.6578\n",
      "Epoch 48/100\n",
      "449/449 [==============================] - 205s 455ms/step - loss: 0.8173 - acc: 0.6948 - val_loss: 0.9436 - val_acc: 0.6599\n",
      "Epoch 49/100\n",
      "449/449 [==============================] - 205s 455ms/step - loss: 0.8185 - acc: 0.6931 - val_loss: 0.9427 - val_acc: 0.6661\n",
      "Epoch 50/100\n",
      "449/449 [==============================] - 205s 455ms/step - loss: 0.8106 - acc: 0.6997 - val_loss: 0.9444 - val_acc: 0.6673\n",
      "Epoch 51/100\n",
      "449/449 [==============================] - 205s 456ms/step - loss: 0.8057 - acc: 0.6975 - val_loss: 0.9365 - val_acc: 0.6701\n",
      "Epoch 52/100\n",
      "449/449 [==============================] - 205s 456ms/step - loss: 0.8029 - acc: 0.6980 - val_loss: 0.9338 - val_acc: 0.6690\n",
      "Epoch 53/100\n",
      "449/449 [==============================] - 205s 456ms/step - loss: 0.7983 - acc: 0.6997 - val_loss: 0.9332 - val_acc: 0.6627\n",
      "Epoch 54/100\n",
      "449/449 [==============================] - 205s 456ms/step - loss: 0.7915 - acc: 0.7052 - val_loss: 0.9408 - val_acc: 0.6655\n",
      "Epoch 55/100\n",
      "449/449 [==============================] - 205s 456ms/step - loss: 0.7879 - acc: 0.7049 - val_loss: 0.9432 - val_acc: 0.6606\n",
      "Epoch 55: early stopping\n"
     ]
    }
   ],
   "source": [
    "reduce_lr = ReduceLROnPlateau(monitor='val_loss',factor=0.5, patience = 4, verbose = 1)\n",
    "early_stopping = EarlyStopping(monitor='val_loss', min_delta=0, patience = 10, verbose = 1)\n",
    "optimizer = tf.keras.optimizers.Adam(learning_rate = 0.001)\n",
    "\n",
    "model.compile(loss = tf.keras.losses.categorical_crossentropy, metrics = 'acc', optimizer = optimizer)\n",
    "history = model.fit(train_generator,validation_data = valid_generator, epochs = 100, callbacks = [early_stopping])"
   ]
  },
  {
   "cell_type": "code",
   "execution_count": 18,
   "id": "5c18db1a-851b-4af5-b75b-b9bbcacdbd23",
   "metadata": {},
   "outputs": [
    {
     "name": "stdout",
     "output_type": "stream",
     "text": [
      "113/113 [==============================] - 15s 127ms/step - loss: 0.9432 - acc: 0.6606\n"
     ]
    },
    {
     "data": {
      "text/plain": [
       "[0.9431591033935547, 0.6606296896934509]"
      ]
     },
     "execution_count": 18,
     "metadata": {},
     "output_type": "execute_result"
    }
   ],
   "source": [
    "model.evaluate(valid_generator,verbose=1)"
   ]
  },
  {
   "cell_type": "code",
   "execution_count": 21,
   "id": "18b556f4-1d1b-4fb3-b962-6015efe3a4c3",
   "metadata": {},
   "outputs": [],
   "source": [
    "model.save('models/55epES.h5');"
   ]
  },
  {
   "cell_type": "code",
   "execution_count": null,
   "id": "8369f0f3-6bf1-403a-9309-6744fcf4a690",
   "metadata": {},
   "outputs": [],
   "source": []
  }
 ],
 "metadata": {
  "kernelspec": {
   "display_name": "tensorgpu",
   "language": "python",
   "name": "tensorgpu"
  },
  "language_info": {
   "codemirror_mode": {
    "name": "ipython",
    "version": 3
   },
   "file_extension": ".py",
   "mimetype": "text/x-python",
   "name": "python",
   "nbconvert_exporter": "python",
   "pygments_lexer": "ipython3",
   "version": "3.10.13"
  }
 },
 "nbformat": 4,
 "nbformat_minor": 5
}
